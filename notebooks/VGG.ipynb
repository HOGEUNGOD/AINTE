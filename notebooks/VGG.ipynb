{
 "cells": [
  {
   "cell_type": "code",
   "execution_count": 1,
   "outputs": [
    {
     "name": "stderr",
     "output_type": "stream",
     "text": [
      "100%|██████████| 1110/1110 [01:11<00:00, 15.44it/s]\n"
     ]
    }
   ],
   "source": [
    "import time\n",
    "import glob\n",
    "import sys\n",
    "import os\n",
    "import numpy as np\n",
    "import tqdm\n",
    "from sklearn.model_selection import train_test_split\n",
    "from tensorflow import keras\n",
    "from functools import partial\n",
    "import pandas as pd\n",
    "from sklearn.preprocessing import MinMaxScaler\n",
    "from scipy.signal import savgol_filter\n",
    "import matplotlib.pyplot as plt\n",
    "from tensorflow.keras.utils import to_categorical\n",
    "from sklearn.preprocessing import LabelEncoder\n",
    "from sklearn.metrics import confusion_matrix\n",
    "import pandas as pd\n",
    "import matplotlib.pyplot as plt\n",
    "import seaborn as sns\n",
    "import tensorflow\n",
    "\n",
    "def data_load(path):\n",
    "    files = glob.glob(path)\n",
    "    if not files:\n",
    "        print(\"Chck Path\")\n",
    "        sys.exit()\n",
    "\n",
    "    _feature=[]\n",
    "    label=[]\n",
    "    count = 0\n",
    "    for address in tqdm.tqdm(files):\n",
    "        if count ==0:\n",
    "            _feature=np.array([np.load(address)])\n",
    "            label_ = os.path.basename(address)[:-4].split('_')[-1]\n",
    "            label.append([label_])\n",
    "            count = count + 1\n",
    "        label_ = os.path.basename(address)[:-4].split('_')[-1]\n",
    "\n",
    "        _feature=np.append(_feature, np.array([np.load(address)]),axis=0)\n",
    "        label.append([label_])\n",
    "\n",
    "    target = np.array(label).flatten()\n",
    "    return _feature, target.reshape((-1,1))\n",
    "\n",
    "\n",
    "\n",
    "X_train, y_train = data_load('../data/train_set/*')\n",
    "scaler = MinMaxScaler()\n",
    "y_train = scaler.fit_transform(y_train)"
   ],
   "metadata": {
    "collapsed": false,
    "pycharm": {
     "name": "#%%\n"
    }
   }
  },
  {
   "cell_type": "code",
   "execution_count": 2,
   "outputs": [
    {
     "name": "stderr",
     "output_type": "stream",
     "text": [
      "100%|██████████| 37/37 [00:00<00:00, 110.75it/s]\n"
     ]
    }
   ],
   "source": [
    "X_test, y_test = data_load('../data/test_set/*')\n",
    "y_test = scaler.transform(y_test)\n",
    "\n",
    "\n",
    "X_train,  X_valid, y_train, y_valid = train_test_split(X_train, y_train, test_size=0.3,stratify=y_train)\n",
    "X_train = X_train / 255.0\n",
    "X_valid = X_valid / 255.0\n",
    "X_test = X_test / 255.0\n"
   ],
   "metadata": {
    "collapsed": false,
    "pycharm": {
     "name": "#%%\n"
    }
   }
  },
  {
   "cell_type": "code",
   "execution_count": 3,
   "outputs": [
    {
     "name": "stdout",
     "output_type": "stream",
     "text": [
      "Model: \"sequential\"\n",
      "_________________________________________________________________\n",
      "Layer (type)                 Output Shape              Param #   \n",
      "=================================================================\n",
      "conv2d (Conv2D)              (None, 512, 512, 64)      640       \n",
      "_________________________________________________________________\n",
      "activation (Activation)      (None, 512, 512, 64)      0         \n",
      "_________________________________________________________________\n",
      "conv2d_1 (Conv2D)            (None, 512, 512, 64)      36928     \n",
      "_________________________________________________________________\n",
      "activation_1 (Activation)    (None, 512, 512, 64)      0         \n",
      "_________________________________________________________________\n",
      "max_pooling2d (MaxPooling2D) (None, 256, 256, 64)      0         \n",
      "_________________________________________________________________\n",
      "conv2d_2 (Conv2D)            (None, 256, 256, 128)     73856     \n",
      "_________________________________________________________________\n",
      "activation_2 (Activation)    (None, 256, 256, 128)     0         \n",
      "_________________________________________________________________\n",
      "conv2d_3 (Conv2D)            (None, 256, 256, 128)     147584    \n",
      "_________________________________________________________________\n",
      "activation_3 (Activation)    (None, 256, 256, 128)     0         \n",
      "_________________________________________________________________\n",
      "max_pooling2d_1 (MaxPooling2 (None, 128, 128, 128)     0         \n",
      "_________________________________________________________________\n",
      "conv2d_4 (Conv2D)            (None, 128, 128, 256)     295168    \n",
      "_________________________________________________________________\n",
      "activation_4 (Activation)    (None, 128, 128, 256)     0         \n",
      "_________________________________________________________________\n",
      "conv2d_5 (Conv2D)            (None, 128, 128, 256)     590080    \n",
      "_________________________________________________________________\n",
      "activation_5 (Activation)    (None, 128, 128, 256)     0         \n",
      "_________________________________________________________________\n",
      "max_pooling2d_2 (MaxPooling2 (None, 64, 64, 256)       0         \n",
      "_________________________________________________________________\n",
      "conv2d_6 (Conv2D)            (None, 64, 64, 512)       1180160   \n",
      "_________________________________________________________________\n",
      "activation_6 (Activation)    (None, 64, 64, 512)       0         \n",
      "_________________________________________________________________\n",
      "conv2d_7 (Conv2D)            (None, 64, 64, 512)       2359808   \n",
      "_________________________________________________________________\n",
      "activation_7 (Activation)    (None, 64, 64, 512)       0         \n",
      "_________________________________________________________________\n",
      "max_pooling2d_3 (MaxPooling2 (None, 32, 32, 512)       0         \n",
      "_________________________________________________________________\n",
      "conv2d_8 (Conv2D)            (None, 32, 32, 512)       2359808   \n",
      "_________________________________________________________________\n",
      "activation_8 (Activation)    (None, 32, 32, 512)       0         \n",
      "_________________________________________________________________\n",
      "conv2d_9 (Conv2D)            (None, 32, 32, 512)       2359808   \n",
      "_________________________________________________________________\n",
      "activation_9 (Activation)    (None, 32, 32, 512)       0         \n",
      "_________________________________________________________________\n",
      "max_pooling2d_4 (MaxPooling2 (None, 16, 16, 512)       0         \n",
      "_________________________________________________________________\n",
      "flatten (Flatten)            (None, 131072)            0         \n",
      "_________________________________________________________________\n",
      "dense (Dense)                (None, 256)               33554688  \n",
      "_________________________________________________________________\n",
      "dropout (Dropout)            (None, 256)               0         \n",
      "_________________________________________________________________\n",
      "dense_1 (Dense)              (None, 256)               65792     \n",
      "_________________________________________________________________\n",
      "dropout_1 (Dropout)          (None, 256)               0         \n",
      "_________________________________________________________________\n",
      "dense_2 (Dense)              (None, 1)                 257       \n",
      "=================================================================\n",
      "Total params: 43,024,577\n",
      "Trainable params: 43,024,577\n",
      "Non-trainable params: 0\n",
      "_________________________________________________________________\n"
     ]
    }
   ],
   "source": [
    "tensorflow.random.set_seed(7)\n",
    "\n",
    "Conv_default = partial(keras.layers.Conv2D,\n",
    "                        kernel_size=3,padding=\"SAME\")\n",
    "model = keras.models.Sequential([\n",
    "    Conv_default(filters=64, kernel_size=3, input_shape=[512, 512, 1]),\n",
    "    keras.layers.Activation(\"relu\"),\n",
    "    Conv_default(filters=64),\n",
    "    keras.layers.Activation(\"relu\"),\n",
    "    keras.layers.MaxPooling2D(pool_size=2),\n",
    "\n",
    "    Conv_default(filters=128),\n",
    "    keras.layers.Activation(\"relu\"),\n",
    "    Conv_default(filters=128),\n",
    "    keras.layers.Activation(\"relu\"),\n",
    "    keras.layers.MaxPooling2D(pool_size=2),\n",
    "\n",
    "    Conv_default(filters=256),\n",
    "    keras.layers.Activation(\"relu\"),\n",
    "    Conv_default(filters=256),\n",
    "    keras.layers.Activation(\"relu\"),\n",
    "    keras.layers.MaxPooling2D(pool_size=2),\n",
    "    #\n",
    "    Conv_default(filters=512),\n",
    "    keras.layers.Activation(\"relu\"),\n",
    "    Conv_default(filters=512),\n",
    "    keras.layers.Activation(\"relu\"),\n",
    "    keras.layers.MaxPooling2D(pool_size=2),\n",
    "\n",
    "    Conv_default(filters=512),\n",
    "    keras.layers.Activation(\"relu\"),\n",
    "    Conv_default(filters=512),\n",
    "    keras.layers.Activation(\"relu\"),\n",
    "    keras.layers.MaxPooling2D(pool_size=2),\n",
    "\n",
    "    keras.layers.Flatten(),\n",
    "    keras.layers.Dense(units=256, activation='relu'),\n",
    "    keras.layers.Dropout(0.5),\n",
    "    keras.layers.Dense(units=256, activation='relu'),\n",
    "    keras.layers.Dropout(0.5),\n",
    "    keras.layers.Dense(units=1),\n",
    "])\n",
    "callback = keras.callbacks.EarlyStopping(monitor='val_loss', patience=50, restore_best_weights=True)\n",
    "model.compile(loss=\"mse\", optimizer=keras.optimizers.Adam(0.0001),\n",
    "              metrics=[\"mse\"])\n",
    "\n",
    "model.summary()"
   ],
   "metadata": {
    "collapsed": false,
    "pycharm": {
     "name": "#%%\n"
    }
   }
  },
  {
   "cell_type": "code",
   "execution_count": null,
   "outputs": [],
   "source": [
    "start = time.time()\n",
    "\n",
    "history = model.fit(X_train, y_train,batch_size=16 ,epochs=300, callbacks=[callback], validation_data=(X_valid, y_valid))\n",
    "print('Time :', time.time()-start)\n",
    "score = model.evaluate(X_test,y_test)\n",
    "print(score)\n",
    "\n",
    "\n",
    "model.save(\"VGG2.h5\")\n",
    "np.save('history.npy',history.history)"
   ],
   "metadata": {
    "collapsed": false,
    "pycharm": {
     "name": "#%%\n"
    }
   }
  },
  {
   "cell_type": "code",
   "execution_count": 4,
   "outputs": [],
   "source": [
    "history=np.load('history.npy',allow_pickle='TRUE').item()"
   ],
   "metadata": {
    "collapsed": false,
    "pycharm": {
     "name": "#%%\n"
    }
   }
  },
  {
   "cell_type": "code",
   "execution_count": 5,
   "outputs": [
    {
     "data": {
      "text/plain": "<Figure size 432x288 with 1 Axes>",
      "image/png": "[encoded data removed]"
     },
     "metadata": {
      "needs_background": "light"
     },
     "output_type": "display_data"
    }
   ],
   "source": [
    "fig, ax = plt.subplots()\n",
    "sns.set_theme(style=\"whitegrid\")\n",
    "training_loss = history[\"loss\"]\n",
    "test_loss = history[\"val_loss\"]\n",
    "epoch_count = range(1, len(training_loss)+1)\n",
    "\n",
    "\n",
    "ax.plot(epoch_count, training_loss, \"r-\")\n",
    "ax.plot(epoch_count, test_loss, \"b-\")\n",
    "plt.legend([\"training_loss\", \"validation_loss\"])\n",
    "ax.set_xlabel(\"Epoch\")\n",
    "ax.set_ylabel(\"Loss\")\n",
    "plt.savefig('../figure/loss_valid_change.png',dpi=300,bbox_inches='tight')"
   ],
   "metadata": {
    "collapsed": false,
    "pycharm": {
     "name": "#%%\n"
    }
   }
  },
  {
   "cell_type": "code",
   "execution_count": 5,
   "outputs": [],
   "source": [],
   "metadata": {
    "collapsed": false,
    "pycharm": {
     "name": "#%%\n"
    }
   }
  }
 ],
 "metadata": {
  "kernelspec": {
   "display_name": "Python 3",
   "language": "python",
   "name": "python3"
  },
  "language_info": {
   "codemirror_mode": {
    "name": "ipython",
    "version": 2
   },
   "file_extension": ".py",
   "mimetype": "text/x-python",
   "name": "python",
   "nbconvert_exporter": "python",
   "pygments_lexer": "ipython2",
   "version": "2.7.6"
  }
 },
 "nbformat": 4,
 "nbformat_minor": 0
}