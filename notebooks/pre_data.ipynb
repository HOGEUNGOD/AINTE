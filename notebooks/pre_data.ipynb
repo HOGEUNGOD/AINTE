{
 "cells": [
  {
   "cell_type": "code",
   "execution_count": null,
   "metadata": {
    "collapsed": true,
    "pycharm": {
     "name": "#%%\n"
    }
   },
   "outputs": [],
   "source": [
    "import numpy as np\n",
    "import matplotlib.pyplot as plt\n",
    "import scipy.ndimage\n",
    "import cv2\n",
    "import glob\n",
    "import os\n",
    "\n",
    "class call_num():\n",
    "    def __init__(self):\n",
    "        self.number = 0\n",
    "    def add(self):\n",
    "        self.number = self.number + 1\n",
    "    def print(self):\n",
    "        return self.number\n",
    "\n",
    "def translateit(image, offset):\n",
    "    return scipy.ndimage.interpolation.shift(image, (offset[0], offset[1], 0), mode='nearest')\n",
    "\n",
    "\n",
    "def rotateit(image, theta):\n",
    "    return scipy.ndimage.rotate(image, float(theta), reshape=False, mode='nearest')\n",
    "\n",
    "def flipit(image, bool, type = 'ver'):\n",
    "    if bool == 1:\n",
    "        if type == 'ver':\n",
    "            image = np.fliplr(image)\n",
    "        else:\n",
    "            image = np.flip(image)\n",
    "    else:\n",
    "        image = image\n",
    "    return image\n",
    "\n",
    "\n",
    "_input_loc = r'./test_data/'\n",
    "call_num = call_num()\n",
    "num= 0\n",
    "for num in range(0, 10):\n",
    "    for input_loc in glob.glob(_input_loc+'{}/*'.format(list[num])):\n",
    "        name = list[num]\n",
    "        output_loc = (r'./train_data/'+name+'/')\n",
    "        data = np.load(input_loc)\n",
    "        for _ in range(5):\n",
    "            random_angle = np.random.choice([0, 90, 180, 270])\n",
    "            random_flip_ho = np.random.randint(0,2)\n",
    "            random_flip_ver = np.random.randint(0,2)\n",
    "            random_y = np.random.randint(-10,10)\n",
    "            random_x = np.random.randint(-10,10)\n",
    "\n",
    "            array= np.expand_dims(array,axis=2)\n",
    "            array = flipit(array,random_flip_ho, type='ho')\n",
    "            array = flipit(array,random_flip_ver, type='ver')\n",
    "            array = rotateit(array,random_angle)\n",
    "            array = translateit(array, [random_y,random_x])\n",
    "            array = np.squeeze(array,axis=2)\n",
    "\n",
    "            np.save(output_loc+name+'_{}'.format(call_num.print()), array)\n",
    "\n",
    "\n",
    "            plt.savefig('./train_figure/{}/{}.png'.format(name,call_num.print()))\n",
    "            plt.close()\n",
    "            call_num.add()\n",
    "        print(input_loc, output_loc)"
   ]
  }
 ],
 "metadata": {
  "kernelspec": {
   "display_name": "Python 3",
   "language": "python",
   "name": "python3"
  },
  "language_info": {
   "codemirror_mode": {
    "name": "ipython",
    "version": 2
   },
   "file_extension": ".py",
   "mimetype": "text/x-python",
   "name": "python",
   "nbconvert_exporter": "python",
   "pygments_lexer": "ipython2",
   "version": "2.7.6"
  }
 },
 "nbformat": 4,
 "nbformat_minor": 0
}