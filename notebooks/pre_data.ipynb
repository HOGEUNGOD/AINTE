{
 "cells": [
  {
   "cell_type": "code",
   "execution_count": 4,
   "outputs": [],
   "source": [
    "import numpy as np\n",
    "import matplotlib.pyplot as plt\n",
    "import scipy.ndimage\n",
    "import cv2\n",
    "import glob\n",
    "import os\n",
    "\n",
    "\n",
    "class call_num():\n",
    "    def __init__(self):\n",
    "        self.number = 0\n",
    "    def add(self):\n",
    "        self.number = self.number + 1\n",
    "    def print(self):\n",
    "        return self.number\n",
    "\n",
    "def translateit(image, position_x, position_y, roi_size):\n",
    "    return image[position_y:position_y+roi_size, position_x:position_x+roi_size]\n",
    "\n",
    "def rotateit(image, theta):\n",
    "    return scipy.ndimage.rotate(image, float(theta), reshape=False, mode='nearest')\n",
    "\n",
    "def flipit(image, bool, type = 'ver'):\n",
    "    if bool == 1:\n",
    "        if type == 'ver':\n",
    "            image = np.fliplr(image)\n",
    "        else:\n",
    "            image = np.flip(image)\n",
    "    else:\n",
    "        image = image\n",
    "    return image\n",
    "\n",
    "def augmentation_data(image, roi_size=512):\n",
    "    w, h = np.shape(image)[1], np.shape(image)[0]\n",
    "\n",
    "    random_angle = np.random.choice([0, 90, 180, 270])\n",
    "    random_flip_ho = np.random.randint(0,2)\n",
    "    random_flip_ver = np.random.randint(0,2)\n",
    "    random_y = np.random.randint(0,h-roi_size)\n",
    "    random_x = np.random.randint(0,w-roi_size)\n",
    "    # random_flip_ver = np.random.randint(0,2)\n",
    "\n",
    "    image= np.expand_dims(image,axis=2)\n",
    "    image = translateit(image, random_x, random_y, roi_size)\n",
    "    image = flipit(image,random_flip_ho, type='ho')\n",
    "    image = flipit(image,random_flip_ver, type='ver')\n",
    "    image = rotateit(image,random_angle)\n",
    "    return image\n",
    "\n",
    "def test_data(image, roi_size=512):\n",
    "    w, h = np.shape(image)[1], np.shape(image)[0]\n",
    "    random_y = np.random.randint(0,h-roi_size)\n",
    "    random_x = np.random.randint(0,w-roi_size)\n",
    "\n",
    "    image= np.expand_dims(image,axis=2)\n",
    "    image = translateit(image, random_x, random_y, roi_size)\n",
    "\n",
    "    return image"
   ],
   "metadata": {
    "collapsed": false,
    "pycharm": {
     "name": "#%%\n"
    }
   }
  },
  {
   "cell_type": "code",
   "execution_count": 5,
   "outputs": [
    {
     "name": "stderr",
     "output_type": "stream",
     "text": [
      "100%|██████████| 3/3 [00:04<00:00,  1.58s/it]\n",
      "100%|██████████| 3/3 [00:04<00:00,  1.62s/it]\n",
      "100%|██████████| 1/1 [00:01<00:00,  1.41s/it]\n",
      "100%|██████████| 3/3 [00:04<00:00,  1.57s/it]\n",
      "100%|██████████| 3/3 [00:04<00:00,  1.59s/it]\n",
      "100%|██████████| 3/3 [00:04<00:00,  1.52s/it]\n",
      "100%|██████████| 3/3 [00:04<00:00,  1.48s/it]\n",
      "100%|██████████| 3/3 [00:04<00:00,  1.50s/it]\n",
      "100%|██████████| 3/3 [00:04<00:00,  1.51s/it]\n",
      "100%|██████████| 3/3 [00:04<00:00,  1.47s/it]\n",
      "100%|██████████| 3/3 [00:04<00:00,  1.50s/it]\n",
      "100%|██████████| 3/3 [00:04<00:00,  1.50s/it]\n",
      "100%|██████████| 3/3 [00:04<00:00,  1.61s/it]\n"
     ]
    }
   ],
   "source": [
    "import glob\n",
    "import pandas as pd\n",
    "import tqdm\n",
    "idx = call_num()\n",
    "\n",
    "aug_num = 30\n",
    "df = pd.read_excel('../data/raw_data.xlsx')\n",
    "\n",
    "for concentration,deposition,spin_cationg_speed,sheet_resistance,transmittance in np.array(df):\n",
    "    path = '../data/raw_data/{}/{}/'.format(str(concentration), str(int(spin_cationg_speed)))\n",
    "    for image_path in tqdm.tqdm(glob.glob(path+'*jpg')):\n",
    "            for num in range(aug_num):\n",
    "                image = cv2.imread(image_path, cv2.IMREAD_GRAYSCALE)[0:890,:]\n",
    "                aug_data = augmentation_data(image, 512)\n",
    "                np.save('../data/train_set/{}_{}_{}'.format(str(idx.print()).zfill(4),str(num), str(sheet_resistance)), aug_data)\n",
    "                cv2.imwrite('../data/train_check/{}_{}_{}.jpg'.format(str(idx.print()).zfill(4),str(+num), str(sheet_resistance)), aug_data)\n",
    "                idx.add()\n",
    "\n",
    "\n"
   ],
   "metadata": {
    "collapsed": false,
    "pycharm": {
     "name": "#%%\n"
    }
   }
  },
  {
   "cell_type": "code",
   "execution_count": 5,
   "outputs": [],
   "source": [
    "import glob\n",
    "import pandas as pd\n",
    "\n",
    "idx = call_num()\n",
    "\n",
    "df = pd.read_excel('../data/raw_data.xlsx')\n",
    "num = 0\n",
    "for concentration,deposition,spin_cationg_speed,sheet_resistance,transmittance in np.array(df):\n",
    "    path = '../data/raw_data/{}/{}/'.format(str(concentration), str(int(spin_cationg_speed)))\n",
    "    for image_path in glob.glob(path+'*jpg'):\n",
    "        image = cv2.imread(image_path, cv2.IMREAD_GRAYSCALE)[0:890,:]\n",
    "        aug_data = test_data(image, 512)\n",
    "        np.save('../data/test_set/{}_{}_{}'.format(str(idx.print()).zfill(4),str(num), str(sheet_resistance)), aug_data)\n",
    "        cv2.imwrite('../data/test_check/{}_{}_{}.jpg'.format(str(idx.print()).zfill(4),str(+num), str(sheet_resistance)), aug_data)\n",
    "        idx.add()"
   ],
   "metadata": {
    "collapsed": false,
    "pycharm": {
     "name": "#%%\n"
    }
   }
  }
 ],
 "metadata": {
  "kernelspec": {
   "display_name": "Python 3",
   "language": "python",
   "name": "python3"
  },
  "language_info": {
   "codemirror_mode": {
    "name": "ipython",
    "version": 2
   },
   "file_extension": ".py",
   "mimetype": "text/x-python",
   "name": "python",
   "nbconvert_exporter": "python",
   "pygments_lexer": "ipython2",
   "version": "2.7.6"
  }
 },
 "nbformat": 4,
 "nbformat_minor": 0
}